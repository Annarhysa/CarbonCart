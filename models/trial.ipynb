{
 "cells": [
  {
   "cell_type": "code",
   "execution_count": 3,
   "metadata": {},
   "outputs": [
    {
     "data": {
      "text/html": [
       "<div>\n",
       "<style scoped>\n",
       "    .dataframe tbody tr th:only-of-type {\n",
       "        vertical-align: middle;\n",
       "    }\n",
       "\n",
       "    .dataframe tbody tr th {\n",
       "        vertical-align: top;\n",
       "    }\n",
       "\n",
       "    .dataframe thead th {\n",
       "        text-align: right;\n",
       "    }\n",
       "</style>\n",
       "<table border=\"1\" class=\"dataframe\">\n",
       "  <thead>\n",
       "    <tr style=\"text-align: right;\">\n",
       "      <th></th>\n",
       "      <th>FOOD COMMODITY GROUP</th>\n",
       "      <th>FOOD COMMODITY TYPOLOGY</th>\n",
       "      <th>FOOD COMMODITY sub-TYPOLOGY</th>\n",
       "      <th>FOOD COMMODITY ITEM</th>\n",
       "      <th>n</th>\n",
       "      <th>mean</th>\n",
       "      <th>median</th>\n",
       "    </tr>\n",
       "  </thead>\n",
       "  <tbody>\n",
       "    <tr>\n",
       "      <th>0</th>\n",
       "      <td>AGRICULTURAL PROCESSED</td>\n",
       "      <td>BEER</td>\n",
       "      <td>-</td>\n",
       "      <td>BEER IN CAN</td>\n",
       "      <td>5</td>\n",
       "      <td>0.68988</td>\n",
       "      <td>0.693</td>\n",
       "    </tr>\n",
       "    <tr>\n",
       "      <th>1</th>\n",
       "      <td>AGRICULTURAL PROCESSED</td>\n",
       "      <td>BEER</td>\n",
       "      <td>-</td>\n",
       "      <td>BEER IN GLASS</td>\n",
       "      <td>9</td>\n",
       "      <td>1.033266667</td>\n",
       "      <td>0.9605</td>\n",
       "    </tr>\n",
       "    <tr>\n",
       "      <th>2</th>\n",
       "      <td>AGRICULTURAL PROCESSED</td>\n",
       "      <td>BEER</td>\n",
       "      <td>-</td>\n",
       "      <td>BEER MODULAR CAN</td>\n",
       "      <td>5</td>\n",
       "      <td>0.54414</td>\n",
       "      <td>0.5306</td>\n",
       "    </tr>\n",
       "    <tr>\n",
       "      <th>3</th>\n",
       "      <td>AGRICULTURAL PROCESSED</td>\n",
       "      <td>BISCUITS</td>\n",
       "      <td>-</td>\n",
       "      <td>CHOCOLATE OR CREAM FILLED COOKIES**</td>\n",
       "      <td>9</td>\n",
       "      <td>1.691277778</td>\n",
       "      <td>1.533</td>\n",
       "    </tr>\n",
       "    <tr>\n",
       "      <th>4</th>\n",
       "      <td>AGRICULTURAL PROCESSED</td>\n",
       "      <td>BISCUITS</td>\n",
       "      <td>-</td>\n",
       "      <td>SIMPLE COOKIES**</td>\n",
       "      <td>12</td>\n",
       "      <td>1.496333333</td>\n",
       "      <td>1.39075</td>\n",
       "    </tr>\n",
       "  </tbody>\n",
       "</table>\n",
       "</div>"
      ],
      "text/plain": [
       "0    FOOD COMMODITY GROUP FOOD COMMODITY TYPOLOGY FOOD COMMODITY sub-TYPOLOGY  \\\n",
       "0  AGRICULTURAL PROCESSED                    BEER                           -   \n",
       "1  AGRICULTURAL PROCESSED                    BEER                           -   \n",
       "2  AGRICULTURAL PROCESSED                    BEER                           -   \n",
       "3  AGRICULTURAL PROCESSED                BISCUITS                           -   \n",
       "4  AGRICULTURAL PROCESSED                BISCUITS                           -   \n",
       "\n",
       "0                  FOOD COMMODITY ITEM   n         mean   median  \n",
       "0                          BEER IN CAN   5      0.68988    0.693  \n",
       "1                        BEER IN GLASS   9  1.033266667   0.9605  \n",
       "2                     BEER MODULAR CAN   5      0.54414   0.5306  \n",
       "3  CHOCOLATE OR CREAM FILLED COOKIES**   9  1.691277778    1.533  \n",
       "4                     SIMPLE COOKIES**  12  1.496333333  1.39075  "
      ]
     },
     "execution_count": 3,
     "metadata": {},
     "output_type": "execute_result"
    }
   ],
   "source": [
    "import pandas as pd\n",
    "\n",
    "# Load dataset (assuming a CSV file with relevant data)\n",
    "df = pd.read_csv('../data/items_cp_stats.csv')\n",
    "\n",
    "# Set the first row as the column headers\n",
    "df.columns = df.iloc[0]\n",
    "\n",
    "# Drop the first row, which is now the header\n",
    "df = df[1:]\n",
    "\n",
    "# Reset the index if desired\n",
    "df.reset_index(drop=True, inplace=True)\n",
    "\n",
    "df.to_csv('../data/items_cp_stats.csv')\n",
    "\n",
    "df.head()"
   ]
  },
  {
   "cell_type": "code",
   "execution_count": 4,
   "metadata": {},
   "outputs": [
    {
     "data": {
      "text/plain": [
       "Index(['FOOD COMMODITY GROUP', 'FOOD COMMODITY TYPOLOGY',\n",
       "       'FOOD COMMODITY sub-TYPOLOGY', 'FOOD COMMODITY ITEM', 'n', 'mean',\n",
       "       'median'],\n",
       "      dtype='object', name=0)"
      ]
     },
     "execution_count": 4,
     "metadata": {},
     "output_type": "execute_result"
    }
   ],
   "source": [
    "df.columns"
   ]
  },
  {
   "cell_type": "code",
   "execution_count": 6,
   "metadata": {},
   "outputs": [],
   "source": [
    "# Read user input from a text file\n",
    "def read_user_input(file_path):\n",
    "    with open(file_path, 'r') as file:\n",
    "        lines = file.readlines()\n",
    "    return [line.strip() for line in lines]"
   ]
  },
  {
   "cell_type": "code",
   "execution_count": 7,
   "metadata": {},
   "outputs": [],
   "source": [
    "def extract_item_quantity(line):\n",
    "    words = line.split()\n",
    "    quantity = None\n",
    "    for i, word in enumerate(words):\n",
    "        if word.lower().endswith('kg'):\n",
    "            try:\n",
    "                quantity = float(word.lower().replace('kg', ''))\n",
    "            except ValueError:\n",
    "                continue\n",
    "            item = ' '.join(words[:i])\n",
    "            return item, quantity\n",
    "    return line, quantity"
   ]
  },
  {
   "cell_type": "code",
   "execution_count": 8,
   "metadata": {},
   "outputs": [],
   "source": [
    "def process_user_input(inputs, data):\n",
    "    items = data['FOOD COMMODITY ITEM'].str.lower().unique()\n",
    "    commodity_typologies = data['FOOD COMMODITY TYPOLOGY'].str.lower().unique()\n",
    "    result = {}\n",
    "\n",
    "    for line in inputs:\n",
    "        item, quantity = extract_item_quantity(line)\n",
    "        item = item.lower()\n",
    "\n",
    "        # Check if the item exists in the dataset\n",
    "        if item in items:\n",
    "            if quantity is None:\n",
    "                quantity = input(f\"Enter the quantity in KG for {item}: \").strip()\n",
    "            result[item] = quantity\n",
    "        else:\n",
    "            # Check if it's a general category like 'beer'\n",
    "            matched_typology = [typology for typology in commodity_typologies if typology in item]\n",
    "            if matched_typology:\n",
    "                specific_items = data[data['FOOD COMMODITY TYPOLOGY'].str.lower() == matched_typology[0]]['FOOD COMMODITY ITEM']\n",
    "                specific_item = input(f\"Please specify the type for {item}: {list(specific_items)}: \").strip()\n",
    "                if specific_item.lower() in items:\n",
    "                    if quantity is None:\n",
    "                        quantity = input(f\"Enter the quantity in KG for {specific_item}: \").strip()\n",
    "                    result[specific_item] = quantity\n",
    "                else:\n",
    "                    print(f\"Specific item '{specific_item}' not found in the dataset.\")\n",
    "            else:\n",
    "                print(f\"Item '{item}' not found in the dataset.\")\n",
    "\n",
    "    return result"
   ]
  },
  {
   "cell_type": "code",
   "execution_count": 11,
   "metadata": {},
   "outputs": [
    {
     "name": "stdout",
     "output_type": "stream",
     "text": [
      "Item 'chicken' not found in the dataset.\n",
      "Item 'egg pasta' not found in the dataset.\n",
      "Processed Data: {'BEER IN CAN': '2 KG', 'chocolate': '5', 'ketchup': '4'}\n"
     ]
    }
   ],
   "source": [
    "# Main logic\n",
    "if __name__ == \"__main__\":\n",
    "    user_inputs = read_user_input(\"../data/extracted_text/extracted.txt\")\n",
    "    processed_data = process_user_input(user_inputs, df)\n",
    "\n",
    "    print(f\"Processed Data: {processed_data}\")"
   ]
  },
  {
   "cell_type": "code",
   "execution_count": null,
   "metadata": {},
   "outputs": [],
   "source": []
  }
 ],
 "metadata": {
  "kernelspec": {
   "display_name": "CarbonCart-JrMxRZ85",
   "language": "python",
   "name": "python3"
  },
  "language_info": {
   "codemirror_mode": {
    "name": "ipython",
    "version": 3
   },
   "file_extension": ".py",
   "mimetype": "text/x-python",
   "name": "python",
   "nbconvert_exporter": "python",
   "pygments_lexer": "ipython3",
   "version": "3.11.4"
  }
 },
 "nbformat": 4,
 "nbformat_minor": 2
}
